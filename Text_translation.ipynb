{
  "nbformat": 4,
  "nbformat_minor": 0,
  "metadata": {
    "colab": {
      "name": "Text translation.ipynb",
      "provenance": []
    },
    "kernelspec": {
      "name": "python3",
      "display_name": "Python 3"
    }
  },
  "cells": [
    {
      "cell_type": "code",
      "metadata": {
        "colab": {
          "base_uri": "https://localhost:8080/"
        },
        "id": "xIYXoMh7tU5h",
        "outputId": "8d026ee1-c7d3-49b0-d97d-3510b3446f2d"
      },
      "source": [
        "!pip install googletrans==3.1.0a0\n"
      ],
      "execution_count": 1,
      "outputs": [
        {
          "output_type": "stream",
          "text": [
            "Collecting googletrans==3.1.0a0\n",
            "  Downloading https://files.pythonhosted.org/packages/19/3d/4e3a1609bf52f2f7b00436cc751eb977e27040665dde2bd57e7152989672/googletrans-3.1.0a0.tar.gz\n",
            "Collecting httpx==0.13.3\n",
            "\u001b[?25l  Downloading https://files.pythonhosted.org/packages/54/b4/698b284c6aed4d7c2b4fe3ba5df1fcf6093612423797e76fbb24890dd22f/httpx-0.13.3-py3-none-any.whl (55kB)\n",
            "\u001b[K     |████████████████████████████████| 61kB 3.7MB/s \n",
            "\u001b[?25hCollecting rfc3986<2,>=1.3\n",
            "  Downloading https://files.pythonhosted.org/packages/78/be/7b8b99fd74ff5684225f50dd0e865393d2265656ef3b4ba9eaaaffe622b8/rfc3986-1.4.0-py2.py3-none-any.whl\n",
            "Requirement already satisfied: chardet==3.* in /usr/local/lib/python3.6/dist-packages (from httpx==0.13.3->googletrans==3.1.0a0) (3.0.4)\n",
            "Requirement already satisfied: certifi in /usr/local/lib/python3.6/dist-packages (from httpx==0.13.3->googletrans==3.1.0a0) (2020.11.8)\n",
            "Requirement already satisfied: idna==2.* in /usr/local/lib/python3.6/dist-packages (from httpx==0.13.3->googletrans==3.1.0a0) (2.10)\n",
            "Collecting hstspreload\n",
            "\u001b[?25l  Downloading https://files.pythonhosted.org/packages/d3/3c/cdeaf9ab0404853e77c45d9e8021d0d2c01f70a1bb26e460090926fe2a5e/hstspreload-2020.11.21-py3-none-any.whl (981kB)\n",
            "\u001b[K     |████████████████████████████████| 983kB 9.9MB/s \n",
            "\u001b[?25hCollecting sniffio\n",
            "  Downloading https://files.pythonhosted.org/packages/52/b0/7b2e028b63d092804b6794595871f936aafa5e9322dcaaad50ebf67445b3/sniffio-1.2.0-py3-none-any.whl\n",
            "Collecting httpcore==0.9.*\n",
            "\u001b[?25l  Downloading https://files.pythonhosted.org/packages/dd/d5/e4ff9318693ac6101a2095e580908b591838c6f33df8d3ee8dd953ba96a8/httpcore-0.9.1-py3-none-any.whl (42kB)\n",
            "\u001b[K     |████████████████████████████████| 51kB 6.4MB/s \n",
            "\u001b[?25hCollecting contextvars>=2.1; python_version < \"3.7\"\n",
            "  Downloading https://files.pythonhosted.org/packages/83/96/55b82d9f13763be9d672622e1b8106c85acb83edd7cc2fa5bc67cd9877e9/contextvars-2.4.tar.gz\n",
            "Collecting h11<0.10,>=0.8\n",
            "\u001b[?25l  Downloading https://files.pythonhosted.org/packages/5a/fd/3dad730b0f95e78aeeb742f96fa7bbecbdd56a58e405d3da440d5bfb90c6/h11-0.9.0-py2.py3-none-any.whl (53kB)\n",
            "\u001b[K     |████████████████████████████████| 61kB 7.4MB/s \n",
            "\u001b[?25hCollecting h2==3.*\n",
            "\u001b[?25l  Downloading https://files.pythonhosted.org/packages/25/de/da019bcc539eeab02f6d45836f23858ac467f584bfec7a526ef200242afe/h2-3.2.0-py2.py3-none-any.whl (65kB)\n",
            "\u001b[K     |████████████████████████████████| 71kB 8.3MB/s \n",
            "\u001b[?25hCollecting immutables>=0.9\n",
            "\u001b[?25l  Downloading https://files.pythonhosted.org/packages/99/e0/ea6fd4697120327d26773b5a84853f897a68e33d3f9376b00a8ff96e4f63/immutables-0.14-cp36-cp36m-manylinux1_x86_64.whl (98kB)\n",
            "\u001b[K     |████████████████████████████████| 102kB 9.4MB/s \n",
            "\u001b[?25hCollecting hyperframe<6,>=5.2.0\n",
            "  Downloading https://files.pythonhosted.org/packages/19/0c/bf88182bcb5dce3094e2f3e4fe20db28a9928cb7bd5b08024030e4b140db/hyperframe-5.2.0-py2.py3-none-any.whl\n",
            "Collecting hpack<4,>=3.0\n",
            "  Downloading https://files.pythonhosted.org/packages/8a/cc/e53517f4a1e13f74776ca93271caef378dadec14d71c61c949d759d3db69/hpack-3.0.0-py2.py3-none-any.whl\n",
            "Building wheels for collected packages: googletrans, contextvars\n",
            "  Building wheel for googletrans (setup.py) ... \u001b[?25l\u001b[?25hdone\n",
            "  Created wheel for googletrans: filename=googletrans-3.1.0a0-cp36-none-any.whl size=16369 sha256=6abf8cc5b8fd6ce6a494abb619420d3e8d01ac0d9f6a3745799c97851c4473e5\n",
            "  Stored in directory: /root/.cache/pip/wheels/27/7a/a0/aff3babbb775549ce6813cb8fa7ff3c0848c4dc62c20f8fdac\n",
            "  Building wheel for contextvars (setup.py) ... \u001b[?25l\u001b[?25hdone\n",
            "  Created wheel for contextvars: filename=contextvars-2.4-cp36-none-any.whl size=7666 sha256=0eeb2a852943d43fa6aca4e31e7d29bddb22ddff8f8465ee364b2e1acd63b90b\n",
            "  Stored in directory: /root/.cache/pip/wheels/a5/7d/68/1ebae2668bda2228686e3c1cf16f2c2384cea6e9334ad5f6de\n",
            "Successfully built googletrans contextvars\n",
            "Installing collected packages: rfc3986, hstspreload, immutables, contextvars, sniffio, h11, hyperframe, hpack, h2, httpcore, httpx, googletrans\n",
            "Successfully installed contextvars-2.4 googletrans-3.1.0a0 h11-0.9.0 h2-3.2.0 hpack-3.0.0 hstspreload-2020.11.21 httpcore-0.9.1 httpx-0.13.3 hyperframe-5.2.0 immutables-0.14 rfc3986-1.4.0 sniffio-1.2.0\n"
          ],
          "name": "stdout"
        }
      ]
    },
    {
      "cell_type": "code",
      "metadata": {
        "colab": {
          "base_uri": "https://localhost:8080/"
        },
        "id": "QKcL87_jQcjd",
        "outputId": "694d7edb-619b-4ab1-aa4f-8eaed57df0c1"
      },
      "source": [
        "import googletrans\n",
        "\n",
        "print(googletrans.LANGUAGES)"
      ],
      "execution_count": 2,
      "outputs": [
        {
          "output_type": "stream",
          "text": [
            "{'af': 'afrikaans', 'sq': 'albanian', 'am': 'amharic', 'ar': 'arabic', 'hy': 'armenian', 'az': 'azerbaijani', 'eu': 'basque', 'be': 'belarusian', 'bn': 'bengali', 'bs': 'bosnian', 'bg': 'bulgarian', 'ca': 'catalan', 'ceb': 'cebuano', 'ny': 'chichewa', 'zh-cn': 'chinese (simplified)', 'zh-tw': 'chinese (traditional)', 'co': 'corsican', 'hr': 'croatian', 'cs': 'czech', 'da': 'danish', 'nl': 'dutch', 'en': 'english', 'eo': 'esperanto', 'et': 'estonian', 'tl': 'filipino', 'fi': 'finnish', 'fr': 'french', 'fy': 'frisian', 'gl': 'galician', 'ka': 'georgian', 'de': 'german', 'el': 'greek', 'gu': 'gujarati', 'ht': 'haitian creole', 'ha': 'hausa', 'haw': 'hawaiian', 'iw': 'hebrew', 'he': 'hebrew', 'hi': 'hindi', 'hmn': 'hmong', 'hu': 'hungarian', 'is': 'icelandic', 'ig': 'igbo', 'id': 'indonesian', 'ga': 'irish', 'it': 'italian', 'ja': 'japanese', 'jw': 'javanese', 'kn': 'kannada', 'kk': 'kazakh', 'km': 'khmer', 'ko': 'korean', 'ku': 'kurdish (kurmanji)', 'ky': 'kyrgyz', 'lo': 'lao', 'la': 'latin', 'lv': 'latvian', 'lt': 'lithuanian', 'lb': 'luxembourgish', 'mk': 'macedonian', 'mg': 'malagasy', 'ms': 'malay', 'ml': 'malayalam', 'mt': 'maltese', 'mi': 'maori', 'mr': 'marathi', 'mn': 'mongolian', 'my': 'myanmar (burmese)', 'ne': 'nepali', 'no': 'norwegian', 'or': 'odia', 'ps': 'pashto', 'fa': 'persian', 'pl': 'polish', 'pt': 'portuguese', 'pa': 'punjabi', 'ro': 'romanian', 'ru': 'russian', 'sm': 'samoan', 'gd': 'scots gaelic', 'sr': 'serbian', 'st': 'sesotho', 'sn': 'shona', 'sd': 'sindhi', 'si': 'sinhala', 'sk': 'slovak', 'sl': 'slovenian', 'so': 'somali', 'es': 'spanish', 'su': 'sundanese', 'sw': 'swahili', 'sv': 'swedish', 'tg': 'tajik', 'ta': 'tamil', 'te': 'telugu', 'th': 'thai', 'tr': 'turkish', 'uk': 'ukrainian', 'ur': 'urdu', 'ug': 'uyghur', 'uz': 'uzbek', 'vi': 'vietnamese', 'cy': 'welsh', 'xh': 'xhosa', 'yi': 'yiddish', 'yo': 'yoruba', 'zu': 'zulu'}\n"
          ],
          "name": "stdout"
        }
      ]
    },
    {
      "cell_type": "code",
      "metadata": {
        "id": "7ABMzhwukbGs"
      },
      "source": [
        "from googletrans import Translator\n",
        "\n",
        "translator = Translator()"
      ],
      "execution_count": 3,
      "outputs": []
    },
    {
      "cell_type": "code",
      "metadata": {
        "colab": {
          "base_uri": "https://localhost:8080/"
        },
        "id": "Jmpo18u2krJd",
        "outputId": "5a1bf691-3dc3-4fd6-a216-8433621b7819"
      },
      "source": [
        "#open text file\n",
        "f = open('article.txt', 'r')\n",
        "contents = f.read()\n",
        "#english\n",
        "print(contents)\n"
      ],
      "execution_count": 4,
      "outputs": [
        {
          "output_type": "stream",
          "text": [
            "Protesting farmers call for Bharat Bandh; key talks today\n",
            "Farmers agitating against three farm laws on Friday announced a nationwide strike, or Bharat Bandh, on December 8 where they said they will block all toll plazas and roads leading to Delhi as they hardened their position ahead of the fifth round of talks with the central government scheduled for Saturday.\n",
            "\n",
            "Four rounds of negotiations, conducted between three Union ministers and farmers’ representatives, have so far failed to break the deadlock between the two sides as thousands of cultivators continued their stir just outside Delhi’s borders for the eight straight day.\n",
            "\n",
            "On Thursday, the Centre had agreed to review the recently enacted legislation and “bring amendments” if required to address the farmers’ demands. The farmers, however, have stuck to their stand and said that they did not want amendments to the new laws but want them rolled back entirely.\n",
            "\n",
            "Farmer leader Gurnam Singh Chadoni said on Friday that if the Centre does not accept their demands during fifth meeting on Saturday, they will further intensify their agitation.\n",
            "\n",
            "“In our meeting today, we have decided to give a ‘Bharat Bandh’ call on December 8 during which we will also occupy all toll plazas,” said Harinder Singh Lakhowal, general secretary of Bharatiya Kisan Union, one of the groups involved in the talks. “We have planned to block all roads leading to Delhi in the coming days if new farm laws are not scrapped,” he said, addressing a press conference at Singhu border that connects Delhi and Haryana.\n",
            "“Yesterday (Thursday), we told the government that the farm laws should be withdrawn,” he told reporters, adding that the farmers will burn effigies of the government and corporate houses on December 5, and that sportspersons will return their medals in solidarity with the farmers on December 7. However, he did not divulge the details of sportspersons who would be returning their medals.\n",
            "\n",
            "The call for the Bharat Bandh was supported by various other farmers’ organisations. Hannan Mollah, general secretary of All India Kisan Sabha, said, “We need to take this protest forward.”\n",
            "\n",
            "The government, meanwhile, insisted that it was approaching the issue with an “open mind”. Union agriculture minister Narendra Singh Tomar had said after the talks that the government has no ego and it was discussing the issues raised by farmers with an open mind. “The government will discuss points that emerged at the meeting on Friday and hopes that talks will move towards finality when the next round of discussions is held on Saturday,” Tomar had said.\n"
          ],
          "name": "stdout"
        }
      ]
    },
    {
      "cell_type": "code",
      "metadata": {
        "colab": {
          "base_uri": "https://localhost:8080/"
        },
        "id": "4D2eSULewSxm",
        "outputId": "bf8153f3-833e-4cd6-9683-451666ef51f9"
      },
      "source": [
        "#bengali\n",
        "result = translator.translate(contents,src='en', dest='bn')\n",
        "print(result.text)"
      ],
      "execution_count": 5,
      "outputs": [
        {
          "output_type": "stream",
          "text": [
            "প্রতিবাদী কৃষকরা ভারত বন্ধের ডাক দিল; আজ মূল আলোচনা\n",
            "শুক্রবার তিনটি খামার আইনের বিরুদ্ধে আন্দোলনকারী কৃষকরা ৮ ই ডিসেম্বর দেশব্যাপী ধর্মঘট বা ভারতবন্দ ঘোষণা করেছিল যেখানে তারা বলেছিল যে তারা কেন্দ্রীয় সরকারের সাথে পঞ্চম দফার আলোচনার আগে তাদের অবস্থানকে আরও শক্ত করে দেওয়ার কারণে তারা দিল্লিগামী সমস্ত টোল প্লাজা ও রাস্তা অবরোধ করবে। শনিবার নির্ধারিত।\n",
            "\n",
            "তিনটি কেন্দ্রীয় মন্ত্রী এবং কৃষকদের প্রতিনিধিদের মধ্যে পরিচালিত চার দফা আলোচনায় এখন পর্যন্ত দু'পক্ষের মধ্যে অচলাবস্থা ভেঙে ফেলতে ব্যর্থ হওয়ায় হাজার হাজার কৃষক সরাসরি আট দিনের জন্য দিল্লির সীমানার বাইরে আলোড়ন অব্যাহত রেখেছেন।\n",
            "\n",
            "বৃহস্পতিবার, কেন্দ্রটি সম্প্রতি প্রণীত আইন পর্যালোচনা এবং কৃষকদের দাবির সমাধান করার প্রয়োজনে \"সংশোধনী আনতে\" সম্মত হয়েছিল। কৃষকরা অবশ্য তাদের অবস্থান নিয়ে দৃ to় অবস্থান নিয়ে বলেছেন যে তারা নতুন আইনে সংশোধন চান না বরং পুরোপুরি ফিরে যেতে চান।\n",
            "\n",
            "কৃষক নেতা গুনাম সিং চাদোনি শুক্রবার বলেছিলেন যে শনিবার পঞ্চম বৈঠকে কেন্দ্র যদি তাদের দাবি মেনে না নেয় তবে তারা তাদের আন্দোলন আরও তীব্র করবে।\n",
            "\n",
            "\"আমাদের আজকের বৈঠকে আমরা 8 ই ডিসেম্বর 'ভারত বান্ধব' ডাক দেওয়ার সিদ্ধান্ত নিয়েছি, যার সময় আমরা সমস্ত টোল প্লাজাও দখল করব,\" ভারতীয় কিষাণ ইউনিয়নের সাধারণ সম্পাদক হরিন্দর সিং লক্ষোওয়াল বলেছেন, এই দলের সাথে জড়িত একটি গ্রুপ আলোচনা। \"দিল্লি ও হরিয়ানা সংযোগকারী সিংহু সীমান্তে এক সংবাদ সম্মেলনে তিনি বলেন,\" আমরা যদি নতুন খামার আইন বাতিল না করা হয় তবে আগামী দিনগুলিতে দিল্লিগামী সমস্ত সড়ক অবরোধ করার পরিকল্পনা করেছি। \"\n",
            "\"গতকাল (বৃহস্পতিবার), আমরা সরকারকে বলেছিলাম যে খামার আইন প্রত্যাহার করা উচিত,\" তিনি সাংবাদিকদের বলেন, কৃষকরা ৫ ডিসেম্বর সরকার ও কর্পোরেট ঘরগুলির প্রতিমা পুড়িয়ে দেবেন এবং ক্রীড়াবিদরা সংহতি প্রকাশ করে তাদের পদক ফিরিয়ে দেবেন। December ডিসেম্বর কৃষকরা তবে খেলোয়াড়রা তাদের পদক ফিরিয়ে দেওয়ার বিষয়ে বিস্তারিত জানাননি।\n",
            "\n",
            "ভারত বাঁধের আহ্বানটি অন্যান্য বিভিন্ন কৃষকের সংগঠন সমর্থন করেছিল। সর্বভারতীয় किसान সভা সভার সাধারণ সম্পাদক হান্নান মোল্লা বলেছিলেন, \"আমাদের এই প্রতিবাদকে এগিয়ে নিয়ে যাওয়া দরকার।\"\n",
            "\n",
            "ইতোমধ্যে সরকার জোর দিয়েছিল যে তারা এই বিষয়টি “মুক্ত মন” নিয়েই পৌঁছেছে। কেন্দ্রীয় কৃষিমন্ত্রী নরেন্দ্র সিং তোমার আলোচনার পরে বলেছিলেন যে সরকারের কোনও অহংকার নেই এবং এটি কৃষকদের উত্থাপিত বিষয়গুলি উন্মুক্ত মন নিয়ে আলোচনা করছে। তোমার বলেছিলেন, \"শুক্রবার বৈঠকে উত্থাপিত পয়েন্টগুলি নিয়ে সরকার আলোচনা করবে এবং আশা করছে যে শনিবার পরের দফায় আলোচনার সময় আলোচনা শেষ হয়ে যাওয়ার দিকে এগিয়ে যাবে।\"\n"
          ],
          "name": "stdout"
        }
      ]
    },
    {
      "cell_type": "code",
      "metadata": {
        "colab": {
          "base_uri": "https://localhost:8080/"
        },
        "id": "Iu7GwB9cwgPv",
        "outputId": "ff8afb2f-adfe-4d6c-9cc7-ff251c855d70"
      },
      "source": [
        "#hindi\n",
        "result = translator.translate(contents,src='en', dest='hi')\n",
        "print(result.text)"
      ],
      "execution_count": 6,
      "outputs": [
        {
          "output_type": "stream",
          "text": [
            "प्रदर्शनकारी किसानों ने भारत बंद का आह्वान किया; मुख्य वार्ता आज\n",
            "शुक्रवार को तीन कृषि कानूनों के खिलाफ आंदोलन कर रहे किसानों ने 8 दिसंबर को देशव्यापी हड़ताल या भारत बंद की घोषणा की, जहां उन्होंने कहा कि वे दिल्ली जाने वाले सभी टोल प्लाजा और सड़कों को अवरुद्ध कर देंगे क्योंकि उन्होंने केंद्र सरकार के साथ पांचवें दौर की वार्ता से पहले अपनी स्थिति को सख्त कर लिया था शनिवार के लिए निर्धारित है।\n",
            "\n",
            "तीन केंद्रीय मंत्रियों और किसानों के प्रतिनिधियों के बीच आयोजित चार दौर की वार्ता, अब तक दोनों पक्षों के बीच गतिरोध को तोड़ने में विफल रही है क्योंकि आठ सीधे दिन के लिए दिल्ली के सीमाओं के बाहर हजारों कृषकों ने अपनी हलचल जारी रखी।\n",
            "\n",
            "गुरुवार को, केंद्र ने हाल ही में बनाए गए कानून की समीक्षा करने और किसानों की मांगों को संबोधित करने के लिए \"संशोधन लाने\" पर सहमति व्यक्त की थी। हालांकि, किसान अपने रुख पर कायम हैं और कहा है कि वे नए कानूनों में संशोधन नहीं चाहते हैं, लेकिन चाहते हैं कि वे पूरी तरह से वापस आ जाएं।\n",
            "\n",
            "किसान नेता गुरनाम सिंह चडोनी ने शुक्रवार को कहा कि अगर केंद्र शनिवार को पांचवीं बैठक के दौरान उनकी मांगों को स्वीकार नहीं करता है, तो वे अपने आंदोलन को और तेज करेंगे।\n",
            "\n",
            "भारतीय किसान यूनियन के महासचिव हरिंदर सिंह लखोवाल ने कहा, \"हमारी बैठक में आज, हमने 8 दिसंबर को 'भारत बंद' का आह्वान करने का फैसला किया है, जिसके दौरान हम सभी टोल प्लाजा पर भी कब्जा कर लेंगे।\" बाते। दिल्ली और हरियाणा को जोड़ने वाले सिंघू बॉर्डर पर एक प्रेस कॉन्फ्रेंस को संबोधित करते हुए कहा, '' हमने आने वाले दिनों में दिल्ली की ओर जाने वाली सभी सड़कों को ब्लॉक करने की योजना बनाई है, ताकि नए फार्म कानूनों को खत्म नहीं किया जा सके।\n",
            "उन्होंने कहा कि कल (गुरुवार), हमने सरकार से कहा कि कृषि कानूनों को वापस लिया जाना चाहिए, उन्होंने कहा कि किसान 5 दिसंबर को सरकार और कॉरपोरेट घरानों के पुतले जलाएंगे, और वे खिलाड़ी एकजुटता के साथ अपने पदक लौटाएंगे। 7 दिसंबर को किसानों को। हालांकि, उन्होंने खिलाड़ियों के विवरण का ब्योरा नहीं दिया, जो उनके पदक लौटाएंगे।\n",
            "\n",
            "भारत बंद के आह्वान को विभिन्न अन्य किसान संगठनों ने समर्थन दिया। अखिल भारतीय किसान सभा के महासचिव हन्नान मोल्लाह ने कहा, \"हमें इस विरोध को आगे ले जाने की ज़रूरत है।\"\n",
            "\n",
            "इस बीच, सरकार ने जोर देकर कहा कि वह इस मुद्दे पर \"खुले दिमाग\" के साथ संपर्क कर रही है। केंद्रीय कृषि मंत्री नरेंद्र सिंह तोमर ने वार्ता के बाद कहा था कि सरकार को कोई अहंकार नहीं है और वह किसानों द्वारा उठाए गए मुद्दों पर खुले दिमाग से चर्चा कर रही है। तोमर ने कहा, \"सरकार शुक्रवार को बैठक में उभरे बिंदुओं पर चर्चा करेगी और उम्मीद करती है कि अगले दौर पर चर्चा होने पर वार्ता अंतिम रूप ले लेगी।\"\n"
          ],
          "name": "stdout"
        }
      ]
    },
    {
      "cell_type": "code",
      "metadata": {
        "id": "812ENO5Fw7ix"
      },
      "source": [
        ""
      ],
      "execution_count": null,
      "outputs": []
    }
  ]
}